{
 "cells": [
  {
   "cell_type": "code",
   "execution_count": null,
   "id": "8c7718f0",
   "metadata": {},
   "outputs": [],
   "source": []
  },
  {
   "cell_type": "code",
   "execution_count": 1,
   "id": "0198e5ea",
   "metadata": {},
   "outputs": [],
   "source": [
    "import cv2\n",
    "import time\n",
    "from opendr.perception.pose_estimation.lightweight_open_pose.lightweight_open_pose_learner import \\\n",
    "    LightweightOpenPoseLearner\n",
    "from opendr.perception.pose_estimation.lightweight_open_pose.utilities import draw"
   ]
  },
  {
   "cell_type": "code",
   "execution_count": 2,
   "id": "dc25e291",
   "metadata": {},
   "outputs": [],
   "source": [
    "from utils import VideoReader, FPSCounter\n"
   ]
  },
  {
   "cell_type": "code",
   "execution_count": 3,
   "id": "0bb1af60",
   "metadata": {},
   "outputs": [
    {
     "name": "stdout",
     "output_type": "stream",
     "text": [
      "Downloading pretrained model...\n",
      "Metadata json file already exists.\n",
      "Trained model .pth file already exists.\n",
      "Pretrained model download complete.\n"
     ]
    }
   ],
   "source": [
    "pose_estimator = LightweightOpenPoseLearner(device='cuda')\n",
    "pose_estimator.download(path=\".\", verbose=True)\n",
    "pose_estimator.load(\"openpose_default\")"
   ]
  },
  {
   "cell_type": "code",
   "execution_count": null,
   "id": "e2e4d02e",
   "metadata": {},
   "outputs": [],
   "source": []
  },
  {
   "cell_type": "code",
   "execution_count": 4,
   "id": "6001539c",
   "metadata": {},
   "outputs": [],
   "source": [
    "image_provider = VideoReader(0)\n",
    "fps_counter = FPSCounter()"
   ]
  },
  {
   "cell_type": "code",
   "execution_count": null,
   "id": "46e5ddb8",
   "metadata": {},
   "outputs": [],
   "source": [
    "\n",
    "for counter, img in enumerate(image_provider):\n",
    "    fps_counter.tic()\n",
    "    poses = pose_estimator.infer(img)\n",
    "    fps_counter.toc(img)\n",
    "\n",
    "    for pose in poses:\n",
    "        draw(img, pose)\n",
    "    \n",
    "    cv2.imshow('Result', img)\n",
    "    if cv2.waitKey(1) == ord('q'):\n",
    "        break\n",
    "    \n",
    "cv2.destroyAllWindows()\n",
    "image_provider.close()\n",
    "    "
   ]
  },
  {
   "cell_type": "code",
   "execution_count": null,
   "id": "01468a61",
   "metadata": {},
   "outputs": [],
   "source": []
  },
  {
   "cell_type": "code",
   "execution_count": null,
   "id": "cb5fff64",
   "metadata": {},
   "outputs": [],
   "source": []
  },
  {
   "cell_type": "code",
   "execution_count": null,
   "id": "f475af29",
   "metadata": {},
   "outputs": [],
   "source": []
  },
  {
   "cell_type": "code",
   "execution_count": null,
   "id": "f733792a",
   "metadata": {},
   "outputs": [],
   "source": []
  }
 ],
 "metadata": {
  "kernelspec": {
   "display_name": "Python 3 (ipykernel)",
   "language": "python",
   "name": "python3"
  },
  "language_info": {
   "codemirror_mode": {
    "name": "ipython",
    "version": 3
   },
   "file_extension": ".py",
   "mimetype": "text/x-python",
   "name": "python",
   "nbconvert_exporter": "python",
   "pygments_lexer": "ipython3",
   "version": "3.8.10"
  }
 },
 "nbformat": 4,
 "nbformat_minor": 5
}
