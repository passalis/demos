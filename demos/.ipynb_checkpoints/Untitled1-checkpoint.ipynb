{
 "cells": [
  {
   "cell_type": "code",
   "execution_count": null,
   "id": "4ffc58e8",
   "metadata": {},
   "outputs": [],
   "source": [
    "import time\n",
    "\n",
    "import gluoncv as gcv\n",
    "from gluoncv.utils import try_import_cv2\n",
    "cv2 = try_import_cv2()\n",
    "import mxnet as mx"
   ]
  },
  {
   "cell_type": "code",
   "execution_count": null,
   "id": "1d5944d4",
   "metadata": {},
   "outputs": [],
   "source": [
    "# Load the model\n",
    "net = gcv.model_zoo.get_model('ssd_300_resnet34_v1b_coco', pretrained=True)\n",
    "# Compile the model for faster speed\n",
    "net.hybridize()\n"
   ]
  },
  {
   "cell_type": "code",
   "execution_count": null,
   "id": "dfdb0034",
   "metadata": {},
   "outputs": [],
   "source": [
    "# Load the webcam handler\n",
    "cap = cv2.VideoCapture(0)\n",
    "time.sleep(1) ### letting the camera autofocus"
   ]
  },
  {
   "cell_type": "code",
   "execution_count": null,
   "id": "b415770d",
   "metadata": {},
   "outputs": [],
   "source": [
    "from utils import FPSCounter\n",
    "fps = FPSCounter()"
   ]
  },
  {
   "cell_type": "code",
   "execution_count": null,
   "id": "dff81101",
   "metadata": {},
   "outputs": [],
   "source": [
    "axes = None\n",
    "NUM_FRAMES = 200 # you can change this\n",
    "for i in range(NUM_FRAMES):\n",
    "    # Load frame from the camera\n",
    "    ret, frame = cap.read()\n",
    "    fps.tic()\n",
    "    # Image pre-processing\n",
    "    frame = mx.nd.array(cv2.cvtColor(frame, cv2.COLOR_BGR2RGB)).astype('uint8')\n",
    "    rgb_nd, frame = gcv.data.transforms.presets.ssd.transform_test(frame, short=512, max_size=700)\n",
    "\n",
    "    # Run frame through network\n",
    "    class_IDs, scores, bounding_boxes = net(rgb_nd)\n",
    "    \n",
    "    # Display the result\n",
    "    img = gcv.utils.viz.cv_plot_bbox(frame, bounding_boxes[0], scores[0], class_IDs[0], class_names=net.classes)\n",
    "    fps.toc(img)\n",
    "    gcv.utils.viz.cv_plot_image(img)\n",
    "    cv2.waitKey(1)"
   ]
  },
  {
   "cell_type": "code",
   "execution_count": null,
   "id": "3d34543c",
   "metadata": {},
   "outputs": [],
   "source": []
  },
  {
   "cell_type": "code",
   "execution_count": null,
   "id": "d0f2951d",
   "metadata": {},
   "outputs": [],
   "source": []
  }
 ],
 "metadata": {
  "kernelspec": {
   "display_name": "Python 3 (ipykernel)",
   "language": "python",
   "name": "python3"
  },
  "language_info": {
   "codemirror_mode": {
    "name": "ipython",
    "version": 3
   },
   "file_extension": ".py",
   "mimetype": "text/x-python",
   "name": "python",
   "nbconvert_exporter": "python",
   "pygments_lexer": "ipython3",
   "version": "3.8.10"
  }
 },
 "nbformat": 4,
 "nbformat_minor": 5
}
