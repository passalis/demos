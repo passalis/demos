{
 "cells": [
  {
   "cell_type": "code",
   "execution_count": null,
   "id": "1d2666c6",
   "metadata": {},
   "outputs": [],
   "source": []
  },
  {
   "cell_type": "code",
   "execution_count": 1,
   "id": "225b92c2",
   "metadata": {},
   "outputs": [],
   "source": [
    "import cv2\n",
    "import time\n",
    "from opendr.perception.object_detection_2d.ssd.ssd_learner import SingleShotDetectorLearner\n",
    "from opendr.perception.object_detection_2d.utils.vis_utils import draw_bounding_boxes\n"
   ]
  },
  {
   "cell_type": "code",
   "execution_count": 2,
   "id": "d74a3369",
   "metadata": {},
   "outputs": [],
   "source": [
    "from utils import VideoReader, FPSCounter"
   ]
  },
  {
   "cell_type": "code",
   "execution_count": 3,
   "id": "6b4a50dd",
   "metadata": {},
   "outputs": [
    {
     "name": "stderr",
     "output_type": "stream",
     "text": [
      "[11:07:49] ../src/base.cc:80: cuDNN lib mismatch: linked-against version 8101 != compiled-against version 8100.  Set MXNET_CUDNN_LIB_CHECKING=0 to quiet this warning.\n",
      "[11:07:56] ../src/operator/nn/./cudnn/./cudnn_algoreg-inl.h:97: Running performance tests to find the best convolution algorithm, this can take a while... (set the environment variable MXNET_CUDNN_AUTOTUNE_DEFAULT to 0 to disable)\n"
     ]
    },
    {
     "name": "stdout",
     "output_type": "stream",
     "text": [
      "Model name: ssd_default_person --> ./ssd_default_person/ssd_default_person.json\n",
      "Loaded parameters and metadata.\n"
     ]
    },
    {
     "data": {
      "text/plain": [
       "True"
      ]
     },
     "execution_count": 3,
     "metadata": {},
     "output_type": "execute_result"
    }
   ],
   "source": [
    "ssd = SingleShotDetectorLearner(device='cuda')\n",
    "ssd.download(\".\", mode=\"pretrained\")\n",
    "ssd.load(\"./ssd_default_person\", verbose=True)"
   ]
  },
  {
   "cell_type": "code",
   "execution_count": null,
   "id": "6cac8e1a",
   "metadata": {},
   "outputs": [],
   "source": [
    "        "
   ]
  },
  {
   "cell_type": "code",
   "execution_count": 4,
   "id": "02836b24",
   "metadata": {},
   "outputs": [],
   "source": [
    "image_provider = VideoReader(0)\n",
    "fps_counter = FPSCounter()"
   ]
  },
  {
   "cell_type": "code",
   "execution_count": null,
   "id": "65a148d7",
   "metadata": {},
   "outputs": [],
   "source": [
    "    "
   ]
  },
  {
   "cell_type": "code",
   "execution_count": 5,
   "id": "3cad79b8",
   "metadata": {},
   "outputs": [
    {
     "name": "stderr",
     "output_type": "stream",
     "text": [
      "[11:08:06] ../src/operator/nn/./cudnn/./cudnn_algoreg-inl.h:97: Running performance tests to find the best convolution algorithm, this can take a while... (set the environment variable MXNET_CUDNN_AUTOTUNE_DEFAULT to 0 to disable)\n"
     ]
    },
    {
     "name": "stdout",
     "output_type": "stream",
     "text": [
      "\n",
      "[0.]\n",
      "<NDArray 1 @gpu(0)>\n",
      "fps =  0.16959946534348236\n"
     ]
    },
    {
     "name": "stderr",
     "output_type": "stream",
     "text": [
      "/home/nick/Desktop/opendr_internal/venv/lib/python3.8/site-packages/numpy/core/fromnumeric.py:3256: RuntimeWarning: Mean of empty slice.\n",
      "  return _methods._mean(a, axis=axis, dtype=dtype,\n",
      "/home/nick/Desktop/opendr_internal/venv/lib/python3.8/site-packages/numpy/core/_methods.py:161: RuntimeWarning: invalid value encountered in double_scalars\n",
      "  ret = ret.dtype.type(ret / rcount)\n"
     ]
    },
    {
     "name": "stdout",
     "output_type": "stream",
     "text": [
      "\n",
      "[0.]\n",
      "<NDArray 1 @gpu(0)>\n",
      "fps =  5.3076465571131735\n",
      "\n",
      "[0.]\n",
      "<NDArray 1 @gpu(0)>\n",
      "fps =  5.938484366239459\n",
      "\n",
      "[0.]\n",
      "<NDArray 1 @gpu(0)>\n",
      "fps =  5.681291025186044\n",
      "\n",
      "[0.]\n",
      "<NDArray 1 @gpu(0)>\n",
      "fps =  6.052412925308479\n",
      "\n",
      "[0.]\n",
      "<NDArray 1 @gpu(0)>\n",
      "fps =  5.587205507407773\n",
      "\n",
      "[0.]\n",
      "<NDArray 1 @gpu(0)>\n",
      "fps =  6.033771711516274\n",
      "\n",
      "[0.]\n",
      "<NDArray 1 @gpu(0)>\n",
      "fps =  5.770045810347911\n",
      "\n",
      "[0.]\n",
      "<NDArray 1 @gpu(0)>\n",
      "fps =  5.653203654233395\n",
      "\n",
      "[0.]\n",
      "<NDArray 1 @gpu(0)>\n",
      "fps =  5.6157969997697075\n",
      "\n",
      "[0.]\n",
      "<NDArray 1 @gpu(0)>\n",
      "fps =  5.840648468298606\n",
      "\n",
      "[0.]\n",
      "<NDArray 1 @gpu(0)>\n",
      "fps =  6.0299636129429235\n",
      "\n",
      "[0.]\n",
      "<NDArray 1 @gpu(0)>\n",
      "fps =  5.757310045873952\n",
      "\n",
      "[0.]\n",
      "<NDArray 1 @gpu(0)>\n",
      "fps =  5.218795259875674\n",
      "\n",
      "[0.]\n",
      "<NDArray 1 @gpu(0)>\n",
      "fps =  6.301188185151967\n",
      "\n",
      "[0.]\n",
      "<NDArray 1 @gpu(0)>\n",
      "fps =  5.810774228853654\n",
      "\n",
      "[0.]\n",
      "<NDArray 1 @gpu(0)>\n",
      "fps =  5.119150141089858\n",
      "\n",
      "[0.]\n",
      "<NDArray 1 @gpu(0)>\n",
      "fps =  6.1504116840554\n",
      "\n",
      "[0.]\n",
      "<NDArray 1 @gpu(0)>\n",
      "fps =  5.056857187293909\n",
      "\n",
      "[0.]\n",
      "<NDArray 1 @gpu(0)>\n",
      "fps =  6.178634140592776\n",
      "\n",
      "[0.]\n",
      "<NDArray 1 @gpu(0)>\n",
      "fps =  5.873454024018641\n",
      "\n",
      "[0.]\n",
      "<NDArray 1 @gpu(0)>\n",
      "fps =  6.102048417132216\n",
      "\n",
      "[0.]\n",
      "<NDArray 1 @gpu(0)>\n",
      "fps =  5.875527414338946\n",
      "\n",
      "[0.]\n",
      "<NDArray 1 @gpu(0)>\n",
      "fps =  5.9987528532771925\n",
      "\n",
      "[0.]\n",
      "<NDArray 1 @gpu(0)>\n",
      "fps =  5.887932438275245\n"
     ]
    }
   ],
   "source": [
    "for counter, img in enumerate(image_provider):\n",
    "    fps_counter.tic()\n",
    "    boxes = ssd.infer(img, threshold=0.6)\n",
    "    fps_counter.toc(img)\n",
    "\n",
    "    draw_bounding_boxes(img, boxes, class_names=ssd.classes, show=False)\n",
    "    \n",
    "    cv2.imshow('Result', img)\n",
    "    if cv2.waitKey(1) == ord('q'):\n",
    "        break\n",
    "    \n",
    "cv2.destroyAllWindows()\n",
    "image_provider.close()"
   ]
  },
  {
   "cell_type": "code",
   "execution_count": null,
   "id": "7ed249c5",
   "metadata": {},
   "outputs": [],
   "source": []
  },
  {
   "cell_type": "code",
   "execution_count": null,
   "id": "9492d63e",
   "metadata": {},
   "outputs": [],
   "source": []
  },
  {
   "cell_type": "code",
   "execution_count": null,
   "id": "f2e90c1f",
   "metadata": {},
   "outputs": [],
   "source": []
  }
 ],
 "metadata": {
  "kernelspec": {
   "display_name": "Python 3 (ipykernel)",
   "language": "python",
   "name": "python3"
  },
  "language_info": {
   "codemirror_mode": {
    "name": "ipython",
    "version": 3
   },
   "file_extension": ".py",
   "mimetype": "text/x-python",
   "name": "python",
   "nbconvert_exporter": "python",
   "pygments_lexer": "ipython3",
   "version": "3.8.10"
  }
 },
 "nbformat": 4,
 "nbformat_minor": 5
}
